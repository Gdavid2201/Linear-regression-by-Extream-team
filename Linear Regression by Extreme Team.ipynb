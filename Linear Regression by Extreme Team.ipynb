{
 "cells": [
  {
   "cell_type": "code",
   "execution_count": 2,
   "metadata": {},
   "outputs": [
    {
     "name": "stdout",
     "output_type": "stream",
     "text": [
      "How many data do you have?3\n",
      " \n",
      "Give me the data of X# 1\n",
      "5\n",
      "Give me the data of Y# 1\n",
      "7\n",
      " \n",
      "..................\n",
      " \n",
      "Give me the data of X# 2\n",
      "6\n",
      "Give me the data of Y# 2\n",
      "4\n",
      " \n",
      "..................\n",
      " \n",
      "Give me the data of X# 3\n",
      "8\n",
      "Give me the data of Y# 3\n",
      "1\n",
      " \n",
      "..................\n",
      " Y =  16.214285714285715 + (bi*X)\n"
     ]
    }
   ],
   "source": [
    "E1 = int(input(\"How many data do you have?\"))\n",
    "E10 = E1\n",
    "E11 = 1\n",
    "E12 = 1\n",
    "E3 = 0\n",
    "E4 = 0\n",
    "E6 = 0\n",
    "E7 = 0\n",
    "\n",
    "while E1 >= 1:\n",
    "    print(\" \")\n",
    "    print (\"Give me the data of X#\",E11)\n",
    "    E2 = int(input())\n",
    "    E3 = E3 + E2\n",
    "    E7 = E7 + (E2 ** 2)\n",
    "    print (\"Give me the data of Y#\",E11)\n",
    "    E22 = int(input())\n",
    "    E4 = E4 + E22\n",
    "    print(\" \")\n",
    "    print (\"..................\")\n",
    "    E6 = E6 + (E2 * E22)\n",
    "    E11 = E11 + 1\n",
    "    E1 = E1 - 1\n",
    "\n",
    "E5 = E3 ** 2\n",
    "b1 = (((E10)*(E6)) - ((E3)*(E4))) / (((E10)*(E7)) - ((E3)**2))\n",
    "b10 = float(b1)\n",
    "b0 = ((E4) - ((b1)*(E3))) / (E10)\n",
    "b00 = float(b0)\n",
    "\n",
    "print(\" Y = \" ,b0,\"+ (bi*X)\")"
   ]
  },
  {
   "cell_type": "code",
   "execution_count": null,
   "metadata": {},
   "outputs": [],
   "source": []
  }
 ],
 "metadata": {
  "kernelspec": {
   "display_name": "Python 3",
   "language": "python",
   "name": "python3"
  },
  "language_info": {
   "codemirror_mode": {
    "name": "ipython",
    "version": 3
   },
   "file_extension": ".py",
   "mimetype": "text/x-python",
   "name": "python",
   "nbconvert_exporter": "python",
   "pygments_lexer": "ipython3",
   "version": "3.7.4"
  }
 },
 "nbformat": 4,
 "nbformat_minor": 2
}
